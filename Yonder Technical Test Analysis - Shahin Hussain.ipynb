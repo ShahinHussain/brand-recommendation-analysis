{
 "cells": [
  {
   "cell_type": "markdown",
   "metadata": {},
   "source": [
    "This notebook presents the results of the analysis conducted for the Yonder Technical Test. The tasks include:\n",
    "\n",
    "- Exploratory analysis to answer specific questions about the dataset.\n",
    "- A regression analysis to identify drivers influencing brand recommendations.\n",
    "\n",
    "**Goals**:\n",
    "\n",
    "- Provide insights into brand perceptions and recommendations.\n",
    "- Identify key drivers of recommendations for Charlotte Tilbury.\n",
    "- Suggest actionable recommendations based on findings."
   ]
  },
  {
   "cell_type": "markdown",
   "metadata": {},
   "source": [
    "**Data Overview**:\n",
    "- Import libraries & export relevant meta data from .sav file to .txt file."
   ]
  },
  {
   "cell_type": "code",
   "execution_count": 13,
   "metadata": {},
   "outputs": [
    {
     "name": "stdout",
     "output_type": "stream",
     "text": [
      "Metadata successfully exported to metadata_output.txt\n"
     ]
    },
    {
     "data": {
      "text/html": [
       "<div>\n",
       "<style scoped>\n",
       "    .dataframe tbody tr th:only-of-type {\n",
       "        vertical-align: middle;\n",
       "    }\n",
       "\n",
       "    .dataframe tbody tr th {\n",
       "        vertical-align: top;\n",
       "    }\n",
       "\n",
       "    .dataframe thead th {\n",
       "        text-align: right;\n",
       "    }\n",
       "</style>\n",
       "<table border=\"1\" class=\"dataframe\">\n",
       "  <thead>\n",
       "    <tr style=\"text-align: right;\">\n",
       "      <th></th>\n",
       "      <th>respid</th>\n",
       "      <th>q01</th>\n",
       "      <th>q02</th>\n",
       "      <th>q03_uk</th>\n",
       "      <th>q03_us</th>\n",
       "      <th>country</th>\n",
       "      <th>q04_uk</th>\n",
       "      <th>q04_us</th>\n",
       "    </tr>\n",
       "  </thead>\n",
       "  <tbody>\n",
       "    <tr>\n",
       "      <th>0</th>\n",
       "      <td>4400136.0</td>\n",
       "      <td>6.0</td>\n",
       "      <td>2.0</td>\n",
       "      <td>11.0</td>\n",
       "      <td>NaN</td>\n",
       "      <td>1.0</td>\n",
       "      <td>6.0</td>\n",
       "      <td>NaN</td>\n",
       "    </tr>\n",
       "    <tr>\n",
       "      <th>1</th>\n",
       "      <td>4400138.0</td>\n",
       "      <td>4.0</td>\n",
       "      <td>2.0</td>\n",
       "      <td>9.0</td>\n",
       "      <td>NaN</td>\n",
       "      <td>1.0</td>\n",
       "      <td>6.0</td>\n",
       "      <td>NaN</td>\n",
       "    </tr>\n",
       "    <tr>\n",
       "      <th>2</th>\n",
       "      <td>4400140.0</td>\n",
       "      <td>5.0</td>\n",
       "      <td>2.0</td>\n",
       "      <td>9.0</td>\n",
       "      <td>NaN</td>\n",
       "      <td>1.0</td>\n",
       "      <td>6.0</td>\n",
       "      <td>NaN</td>\n",
       "    </tr>\n",
       "    <tr>\n",
       "      <th>3</th>\n",
       "      <td>4400142.0</td>\n",
       "      <td>4.0</td>\n",
       "      <td>2.0</td>\n",
       "      <td>9.0</td>\n",
       "      <td>NaN</td>\n",
       "      <td>1.0</td>\n",
       "      <td>6.0</td>\n",
       "      <td>NaN</td>\n",
       "    </tr>\n",
       "    <tr>\n",
       "      <th>4</th>\n",
       "      <td>4400144.0</td>\n",
       "      <td>2.0</td>\n",
       "      <td>2.0</td>\n",
       "      <td>8.0</td>\n",
       "      <td>NaN</td>\n",
       "      <td>1.0</td>\n",
       "      <td>2.0</td>\n",
       "      <td>NaN</td>\n",
       "    </tr>\n",
       "  </tbody>\n",
       "</table>\n",
       "</div>"
      ],
      "text/plain": [
       "      respid  q01  q02  q03_uk  q03_us  country  q04_uk  q04_us\n",
       "0  4400136.0  6.0  2.0    11.0     NaN      1.0     6.0     NaN\n",
       "1  4400138.0  4.0  2.0     9.0     NaN      1.0     6.0     NaN\n",
       "2  4400140.0  5.0  2.0     9.0     NaN      1.0     6.0     NaN\n",
       "3  4400142.0  4.0  2.0     9.0     NaN      1.0     6.0     NaN\n",
       "4  4400144.0  2.0  2.0     8.0     NaN      1.0     2.0     NaN"
      ]
     },
     "execution_count": 13,
     "metadata": {},
     "output_type": "execute_result"
    }
   ],
   "source": [
    "import pandas as pd\n",
    "import pyreadstat\n",
    "\n",
    "data, meta = pyreadstat.read_sav(\"Test Data.sav\")\n",
    "\n",
    "# Prepare metadata for saving\n",
    "metadata_content = []\n",
    "\n",
    "# Column names and their labels\n",
    "metadata_content.append(\"Variable Names and Labels:\\n\")\n",
    "for var_name, var_label in zip(meta.column_names, meta.column_labels):\n",
    "    metadata_content.append(f\"{var_name}: {var_label}\\n\")\n",
    "\n",
    "# Value labels\n",
    "metadata_content.append(\"\\nValue Labels:\\n\")\n",
    "for label_set, label_dict in meta.value_labels.items():\n",
    "    metadata_content.append(f\"\\n{label_set}:\\n\")\n",
    "    for value, label in label_dict.items():\n",
    "        metadata_content.append(f\"  {value}: {label}\\n\")\n",
    "\n",
    "# Save the metadata to a text file\n",
    "metadata_file_path = \"metadata_output.txt\"\n",
    "with open(metadata_file_path, \"w\") as file:\n",
    "    file.writelines(metadata_content)\n",
    "\n",
    "print(f\"Metadata successfully exported to {metadata_file_path}\")\n",
    "\n",
    "data.iloc[:, :8].head()"
   ]
  },
  {
   "cell_type": "code",
   "execution_count": 2,
   "metadata": {},
   "outputs": [
    {
     "name": "stdout",
     "output_type": "stream",
     "text": [
      "Dataset Shape: (1233, 1212)\n",
      "\n",
      "Null values:\n",
      "respid         0\n",
      "q01            0\n",
      "q02            0\n",
      "q03_uk       733\n",
      "q03_us       500\n",
      "            ... \n",
      "ukq26_12    1166\n",
      "ukq26_13     964\n",
      "ukq26_14     957\n",
      "ukq26_15    1121\n",
      "weight         0\n",
      "Length: 1212, dtype: int64\n"
     ]
    }
   ],
   "source": [
    "# Dataset Overview\n",
    "print(f\"Dataset Shape: {data.shape}\")\n",
    "print(\"\\nNull values:\")\n",
    "print(data.isnull().sum())"
   ]
  },
  {
   "cell_type": "markdown",
   "metadata": {},
   "source": [
    "**Note on null values**:\n",
    "We will focus more on the null values on a task specific basis. You'll see why."
   ]
  },
  {
   "cell_type": "markdown",
   "metadata": {},
   "source": [
    "# Task 1: Exploratory Analysis\n",
    "\n",
    "## Subtask 1a: Bobbi Brown Value for Money\n",
    "**Question**: How many respondents in the UK think Bobbi Brown offers good value for money?\n",
    "\n",
    "**Approach**:\n",
    "\n",
    "1. Filter for UK respondents using the `country` column.\n",
    "2. Focus on the `q16o_03` column, which captures opinions about Bobbi Brown's value for money.\n",
    "3. Count responses for \"Strongly agree\" and \"Slightly agree\". \n",
    "   \n",
    "<br>\n",
    "\n",
    "   \n",
    "**Note**: \n",
    "\n",
    "1. For the columns using the scale: \"Strongly agree\" to \"Strongly disagree\" or \"Don't know\", the following mapping has been used:\n",
    "   - \"Strongly agree\" = 1.0 \n",
    "   - \"Slightly agree\" = 2.0\n",
    "2. And, 'UK' refers to a value of '1.0' in the 'country' column."
   ]
  },
  {
   "cell_type": "code",
   "execution_count": 4,
   "metadata": {},
   "outputs": [
    {
     "data": {
      "text/plain": [
       "1038"
      ]
     },
     "execution_count": 4,
     "metadata": {},
     "output_type": "execute_result"
    }
   ],
   "source": [
    "data['q16o_03'].isnull().sum()"
   ]
  },
  {
   "cell_type": "markdown",
   "metadata": {},
   "source": [
    "The filter which we'll apply will take care of these null values."
   ]
  },
  {
   "cell_type": "code",
   "execution_count": 5,
   "metadata": {},
   "outputs": [
    {
     "name": "stdout",
     "output_type": "stream",
     "text": [
      "24 respondents in the UK think Bobbi Brown offers good value for money.\n"
     ]
    }
   ],
   "source": [
    "uk_data = data.loc[data['country'] == 1.0]\n",
    "filtered_data = uk_data[uk_data['q16o_03'].isin([1.0, 2.0])]\n",
    "print(f\"{len(filtered_data)} respondents in the UK think Bobbi Brown offers good value for money.\")"
   ]
  },
  {
   "cell_type": "markdown",
   "metadata": {},
   "source": [
    "## Subtask 1b: Diversity Across Brands\n",
    "**Question**: Out of all respondents, how many agree that at least 3 brands embrace diversity?\n",
    "\n",
    "**Approach**:\n",
    "\n",
    "1. Identify all columns starting with `q16r_`, which capture diversity perceptions for various brands.\n",
    "2. Count the number of \"Strongly agree\" and \"Slightly agree\" responses per respondent.\n",
    "3. Filter respondents who agree with at least 3 brands.\n",
    "\n",
    "**Code and Results**:"
   ]
  },
  {
   "cell_type": "code",
   "execution_count": 6,
   "metadata": {},
   "outputs": [
    {
     "name": "stdout",
     "output_type": "stream",
     "text": [
      "334 respondents agree that at least 3 brands embrace diversity.\n"
     ]
    }
   ],
   "source": [
    "# Filter relevant columns\n",
    "q16r_columns = [col for col in data.columns if col.startswith(\"q16r\")]\n",
    "\n",
    "# Define agreement values\n",
    "agreement_values = [1.0, 2.0]\n",
    "\n",
    "# Count agreements per respondent\n",
    "data['agreement_count'] = data[q16r_columns].isin(agreement_values).sum(axis=1)\n",
    "\n",
    "# Filter respondents with at least 3 agreements\n",
    "respondents_with_3_agreements = data[data['agreement_count'] >= 3]\n",
    "\n",
    "# Output the count\n",
    "print(f\"{len(respondents_with_3_agreements)} respondents agree that at least 3 brands embrace diversity.\")"
   ]
  },
  {
   "cell_type": "markdown",
   "metadata": {},
   "source": [
    "# Task 2: Regression Analysis\n",
    "\n",
    "**Objective**: Identify drivers influencing recommendations for Charlotte Tilbury.\n",
    "\n",
    "**Steps**:\n",
    "\n",
    "1. Filter independent variables: All columns starting with `q16` and ending with `01`.\n",
    "2. Define dependent variable: `q15_01` (recommendation score for Charlotte Tilbury).\n",
    "3. Handle missing values by dropping rows where `q15_01` is null.\n",
    "4. Train a linear regression model and evaluate results."
   ]
  },
  {
   "cell_type": "code",
   "execution_count": 7,
   "metadata": {},
   "outputs": [
    {
     "name": "stdout",
     "output_type": "stream",
     "text": [
      "Independent Variables: ['q16a_01', 'q16b_01', 'q16c_01', 'q16d_01', 'q16e_01', 'q16f_01', 'q16g_01', 'q16h_01', 'q16i_01', 'q16j_01', 'q16k_01', 'q16l_01', 'q16m_01', 'q16n_01', 'q16o_01', 'q16p_01', 'q16q_01', 'q16r_01', 'q16s_01', 'q16t_01']\n"
     ]
    }
   ],
   "source": [
    "# Filter independent variables\n",
    "independent_vars = [col for col in data.columns if col.startswith(\"q16\") and col.endswith(\"01\")]\n",
    "print(\"Independent Variables:\", independent_vars)"
   ]
  },
  {
   "cell_type": "code",
   "execution_count": 8,
   "metadata": {},
   "outputs": [
    {
     "name": "stdout",
     "output_type": "stream",
     "text": [
      "Null values in q15_01: 543\n",
      "% of column null: 44.04% \n"
     ]
    }
   ],
   "source": [
    "# Null value count for q15_01\n",
    "print(f\"Null values in q15_01: {data['q15_01'].isnull().sum()}\") \n",
    "print(f\"% of column null: {data['q15_01'].isnull().sum()/len(data) * 100:.2f}% \")"
   ]
  },
  {
   "cell_type": "code",
   "execution_count": 9,
   "metadata": {},
   "outputs": [
    {
     "name": "stdout",
     "output_type": "stream",
     "text": [
      "Number of rows after dropping nulls in q15_01: 690\n"
     ]
    }
   ],
   "source": [
    "# Filter rows where q15_01 is non-zero\n",
    "data_cleaned = data.dropna(subset=['q15_01'])\n",
    "print(f\"Number of rows after dropping nulls in q15_01: {len(data_cleaned)}\")"
   ]
  },
  {
   "cell_type": "code",
   "execution_count": 10,
   "metadata": {},
   "outputs": [
    {
     "name": "stdout",
     "output_type": "stream",
     "text": [
      "R-squared: 0.47302466511376406\n"
     ]
    }
   ],
   "source": [
    "from sklearn.linear_model import LinearRegression\n",
    "from sklearn.model_selection import train_test_split\n",
    "from sklearn.metrics import r2_score\n",
    "\n",
    "# Define X (independent) and y (dependent)\n",
    "X = data_cleaned[independent_vars]\n",
    "y = data_cleaned['q15_01']\n",
    "\n",
    "## Split into training and testing sets\n",
    "X_train, X_test, y_train, y_test = train_test_split(X, y, test_size=0.2, random_state=42)\n",
    "\n",
    "# Train the regression model\n",
    "model = LinearRegression()\n",
    "model.fit(X_train, y_train)\n",
    "\n",
    "# Evaluate the model\n",
    "y_pred = model.predict(X_test)\n",
    "r2 = r2_score(y_test, y_pred)\n",
    "\n",
    "print(f\"R-squared: {r2}\")"
   ]
  },
  {
   "cell_type": "markdown",
   "metadata": {},
   "source": [
    "## Results:\n",
    "- **R-squared**: Indicates that the model explains 47% of the variance in recommendations.\n",
    "- **Coefficients**: Highlight the impact of each independent variable.\n",
    "\n",
    "**Code to Display Coefficients**:"
   ]
  },
  {
   "cell_type": "code",
   "execution_count": 11,
   "metadata": {},
   "outputs": [
    {
     "name": "stdout",
     "output_type": "stream",
     "text": [
      "   Variable  Coefficient\n",
      "16  q16q_01     0.192975\n",
      "17  q16r_01     0.187795\n",
      "11  q16l_01     0.130552\n",
      "13  q16n_01     0.072768\n",
      "3   q16d_01     0.056635\n",
      "12  q16m_01    -0.015917\n",
      "5   q16f_01    -0.016197\n",
      "18  q16s_01    -0.059518\n",
      "2   q16c_01    -0.102029\n",
      "19  q16t_01    -0.162375\n",
      "7   q16h_01    -0.172013\n",
      "14  q16o_01    -0.186139\n",
      "10  q16k_01    -0.200283\n",
      "8   q16i_01    -0.215181\n",
      "4   q16e_01    -0.234090\n",
      "9   q16j_01    -0.258700\n",
      "6   q16g_01    -0.282280\n",
      "0   q16a_01    -0.388976\n",
      "1   q16b_01    -0.576377\n",
      "15  q16p_01    -0.605331\n"
     ]
    }
   ],
   "source": [
    "coefficients = pd.DataFrame({\n",
    "    'Variable': independent_vars,\n",
    "    'Coefficient': model.coef_\n",
    "})\n",
    "print(coefficients.sort_values(by='Coefficient', ascending=False))"
   ]
  },
  {
   "cell_type": "markdown",
   "metadata": {},
   "source": [
    "# Conclusion\n",
    "\n",
    "## Key Insights:\n",
    "1. Bobbi Brown: 24 UK respondents think it offers good value for money.\n",
    "2. Diversity: 334 respondents agree that at least 3 brands embrace diversity.\n",
    "3. Regression: Diversity perceptions (e.g., `q16r_01`) are key positive drivers of recommendations, while variables like `q16p_01` negatively impact recommendations.\n",
    "\n",
    "## Recommendations:\n",
    "- Focus marketing efforts on diversity-related messaging to reinforce brand strengths.\n",
    "- Investigate negative drivers to identify improvement opportunities.\n",
    "\n",
    "---\n",
    "\n",
    "## Limitations of the Regression Analysis\n",
    "\n",
    "While the regression analysis provides valuable insights, several limitations should be noted:\n",
    "\n",
    "1. **Missing Data**:\n",
    "   - 44% of rows were dropped due to missing values in `q15_01` (recommendation scores). This may introduce bias if the missingness is not random, potentially affecting the generalizability of the results.\n",
    "\n",
    "2. **Model Assumptions**:\n",
    "   - The regression model assumes linearity, normality of residuals, and independence of observations. These assumptions may not fully hold, which could impact the validity of the results.\n",
    "\n",
    "3. **Multicollinearity**:\n",
    "   - Several independent variables (`q16_*`) may be highly correlated, leading to multicollinearity. This can distort the reliability of individual coefficient estimates, making it harder to identify the true drivers of recommendations.\n",
    "\n",
    "4. **Model Fit**:\n",
    "   - The R-squared value of 0.47 indicates that the model explains only 47% of the variance in recommendations. This suggests other unmeasured factors, such as demographic information or external influences, may significantly impact recommendations.\n",
    "\n",
    "5. **Omitted Variable Bias**:\n",
    "   - Potentially important predictors, such as demographic features or other brand-related perceptions, were not included in the analysis. Their absence could lead to biased estimates and incomplete insights.\n",
    "\n",
    "---\n",
    "\n",
    "## Implications for Decision-Making\n",
    "\n",
    "These limitations highlight the importance of interpreting the results with caution and combining them with domain expertise. Future work could address these issues by:\n",
    "\n",
    "- Exploring the patterns and reasons for missing data.\n",
    "- Investigating additional predictors to improve model fit.\n",
    "- Validating the findings with more representative datasets or alternative models.\n",
    "  \n",
    "---\n",
    "\n",
    "## Additional Analysis Suggestions\n",
    "\n",
    "1. **Segmentation Analysis**:\n",
    "   - Segment respondents by demographics (e.g., age, gender, region) to uncover group-specific insights about brand perceptions.\n",
    "   - **Benefit**: Helps the client tailor marketing strategies to specific audience groups.\n",
    "\n",
    "2. **Cross-Brand Comparison**:\n",
    "   - Compare perceptions and recommendations across brands.\n",
    "   - **Benefit**: Helps identify competitive advantages and areas for improvement relative to competitors.\n",
    "\n",
    "\n"
   ]
  }
 ],
 "metadata": {
  "kernelspec": {
   "display_name": "Python (ML)",
   "language": "python",
   "name": "ml"
  },
  "language_info": {
   "codemirror_mode": {
    "name": "ipython",
    "version": 3
   },
   "file_extension": ".py",
   "mimetype": "text/x-python",
   "name": "python",
   "nbconvert_exporter": "python",
   "pygments_lexer": "ipython3",
   "version": "3.9.19"
  }
 },
 "nbformat": 4,
 "nbformat_minor": 2
}
